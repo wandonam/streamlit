{
 "cells": [
  {
   "cell_type": "code",
   "execution_count": 87,
   "metadata": {},
   "outputs": [],
   "source": [
    "import os\n",
    "import numpy as np\n",
    "import pandas as pd"
   ]
  },
  {
   "cell_type": "code",
   "execution_count": 88,
   "metadata": {},
   "outputs": [],
   "source": [
    "df_2023 = pd.read_excel(rf'..\\data\\raw\\raw_2023.xlsx')"
   ]
  },
  {
   "cell_type": "code",
   "execution_count": 89,
   "metadata": {},
   "outputs": [],
   "source": [
    "df_gross = pd.DataFrame()"
   ]
  },
  {
   "cell_type": "code",
   "execution_count": 90,
   "metadata": {},
   "outputs": [],
   "source": [
    "## Datetime\n",
    "df_gross['date'] = df_2023['출고일'].dt.strftime('%Y-%m-%d')\n",
    "df_gross['year'] = df_2023['출고일'].dt.year\n",
    "df_gross['month'] = df_2023['출고일'].dt.month\n",
    "df_gross['day'] = df_2023['출고일'].dt.day\n",
    "\n",
    "weekday_map = {0: '월', 1: '화', 2: '수', 3: '목', 4: '금', 5: '토', 6: '일'}\n",
    "df_gross['weekday'] = df_2023['출고일'].dt.weekday.map(weekday_map)\n",
    "\n",
    "df_gross['hour'] = df_2023['출고일'].dt.hour"
   ]
  },
  {
   "cell_type": "code",
   "execution_count": 91,
   "metadata": {},
   "outputs": [],
   "source": [
    "### Define Time\n",
    "def convert_hour_to_text(hour):\n",
    "    if hour == 0:\n",
    "        return 'Other'\n",
    "    elif 1 <= hour < 6:\n",
    "        return 'Dawn'\n",
    "    elif 6 <= hour < 12:\n",
    "        return 'Morning'\n",
    "    elif 12 <= hour < 18:\n",
    "        return 'Afternoon'\n",
    "    elif 18 <= hour < 24:\n",
    "        return 'Evening'\n",
    "    else:\n",
    "        return 'Other'\n",
    "\n",
    "df_gross['time'] = df_gross['hour'].apply(convert_hour_to_text)"
   ]
  },
  {
   "cell_type": "code",
   "execution_count": 92,
   "metadata": {},
   "outputs": [],
   "source": [
    "## Channel\n",
    "df_gross['channel'] = df_2023['매출처']\n",
    "\n",
    "def change_sales_channel(value):\n",
    "    mapping = {\n",
    "        '쿠팡': 'wing',\n",
    "        '제트배송': 'growth',\n",
    "        '스마트스토어': 'smartstore',\n",
    "        '자사몰': 'cafe24'\n",
    "    }\n",
    "    return mapping.get(value, 'Other')\n",
    "\n",
    "df_gross['channel'] = df_gross['channel'].apply(change_sales_channel)"
   ]
  },
  {
   "cell_type": "code",
   "execution_count": 93,
   "metadata": {},
   "outputs": [],
   "source": [
    "df_gross['product'] = df_2023['등록 상품명']\n",
    "df_gross['option'] = df_2023['등록 옵션명']\n",
    "df_gross['quantity'] = df_2023['수량']\n",
    "df_gross['sales'] = df_2023['총 판매가']"
   ]
  },
  {
   "cell_type": "code",
   "execution_count": 121,
   "metadata": {},
   "outputs": [],
   "source": [
    "df_gross = df_gross.dropna(subset=['quantity','product','sales'])\n",
    "df_gross = df_gross.loc[~df_gross['product'].str.contains('임직원', na=False)]\n",
    "df_gross = df_gross.loc[~df_gross['product'].str.contains('보틀', na=False)]\n",
    "df_gross = df_gross.loc[~df_gross['product'].str.contains('단일', na=False)]\n",
    "df_gross = df_gross.loc[~df_gross['product'].str.contains('베스트', na=False)]"
   ]
  },
  {
   "cell_type": "code",
   "execution_count": 96,
   "metadata": {},
   "outputs": [],
   "source": [
    "df_gross['quantity'] = df_gross['quantity'].astype(int)"
   ]
  },
  {
   "cell_type": "code",
   "execution_count": 97,
   "metadata": {},
   "outputs": [
    {
     "data": {
      "text/plain": [
       "0        192000\n",
       "1        167400\n",
       "2         27900\n",
       "3         59800\n",
       "4        160000\n",
       "          ...  \n",
       "17828     59800\n",
       "17829     42000\n",
       "17830     42000\n",
       "17831     84000\n",
       "17832    160000\n",
       "Name: sales, Length: 16996, dtype: object"
      ]
     },
     "execution_count": 97,
     "metadata": {},
     "output_type": "execute_result"
    }
   ],
   "source": [
    "df_gross['sales']"
   ]
  },
  {
   "cell_type": "code",
   "execution_count": 125,
   "metadata": {},
   "outputs": [
    {
     "data": {
      "text/plain": [
       "product\n",
       "귀리렌틸콩 곤약밥     5427\n",
       "효소습관 오리지널     4128\n",
       "철분제           3262\n",
       "가벼운 습관        1494\n",
       "슬림케어           564\n",
       "까만콩 쉐이크        341\n",
       "아르기닌           327\n",
       "유산균            252\n",
       "호박차            250\n",
       "알로에겔           186\n",
       "산양유 쉐이크        160\n",
       "브이티            134\n",
       "초코 쉐이크         125\n",
       "닭가슴살           125\n",
       "따움차             94\n",
       "현미귀리발효 곤약밥      58\n",
       "비오틴             33\n",
       "아임파인            13\n",
       "차전자피             7\n",
       "효소 플러스           3\n",
       "효소 스탠다드          2\n",
       "아르히 두피 세럼        1\n",
       "Name: count, dtype: int64"
      ]
     },
     "execution_count": 125,
     "metadata": {},
     "output_type": "execute_result"
    }
   ],
   "source": [
    "df_gross['product'].value_counts()"
   ]
  },
  {
   "cell_type": "code",
   "execution_count": 123,
   "metadata": {},
   "outputs": [],
   "source": [
    "my_dict = {\n",
    "    '렌틸':'귀리렌틸콩 곤약밥',\n",
    "    '현미':'현미귀리발효 곤약밥',\n",
    "    '까만콩':'까만콩 쉐이크',\n",
    "    '철분':'철분제',\n",
    "    '프리미엄 효소':'효소습관 오리지널',\n",
    "    '브이티':'브이티',\n",
    "    '유산균':'유산균',\n",
    "    '가르시니아':'가벼운 습관',\n",
    "    '슬림':'슬림케어',\n",
    "    '파인':'아임파인',\n",
    "    '클렌즈':'모로오렌지 클렌즈',\n",
    "    '스탠다드':'효소 스탠다드',\n",
    "    '데일리':'효소습관 데일리',\n",
    "    '따움차':'따움차',\n",
    "    '알로에':'알로에겔',\n",
    "    '효소 플러스':'효소 플러스',\n",
    "    '쉐이크 2종':'까만콩 쉐이크',\n",
    "    '2박스':'효소습관 오리지널',\n",
    "    '아르기닌':'아르기닌',\n",
    "    '호박':'호박차',\n",
    "    '비오틴':'비오틴',\n",
    "    '닭가슴살':'닭가슴살',\n",
    "    '산양유':'산양유 쉐이크',\n",
    "    '초코 그래놀라':'초코 쉐이크',\n",
    "    '프로틴':'산양유 쉐이크',\n",
    "    '모로블러드':'효소습관 모로오렌지',\n",
    "    '모로오렌지':'효소습관 모로오렌지',\n",
    "    '차전자피':'차전자피',\n",
    "    '발포':'가벼운 습관',\n",
    "    '효소습관':'효소습관 오리지널'\n",
    "}"
   ]
  },
  {
   "cell_type": "code",
   "execution_count": 124,
   "metadata": {},
   "outputs": [],
   "source": [
    "for key, value in my_dict.items():\n",
    "    df_gross.loc[df_gross['product'].str.contains(key), 'product'] = value"
   ]
  },
  {
   "cell_type": "code",
   "execution_count": 126,
   "metadata": {},
   "outputs": [],
   "source": [
    "df_gross['cat'] = df_gross['product'].apply(\n",
    "    lambda x: 'enzyme' if '효소' in x else \n",
    "              'diet' if '브이티' in x else \n",
    "              'meal' if '쉐이크' in x else \n",
    "              'meal' if '곤약밥' in x else \n",
    "              'healthy' if '철분제' in x else \n",
    "              'diet' if '습관' in x else \n",
    "              'diet' if '클렌즈' in x else \n",
    "              'diet' if '유산균' in x else \n",
    "              'healthy' if '알로에겔' in x else \n",
    "              'diet' if '슬림' in x else\n",
    "              'diet' if '아임파인' in x else\n",
    "              'etc'\n",
    ")"
   ]
  },
  {
   "cell_type": "code",
   "execution_count": 132,
   "metadata": {},
   "outputs": [],
   "source": [
    "df_2023 = df_gross"
   ]
  },
  {
   "cell_type": "code",
   "execution_count": 133,
   "metadata": {},
   "outputs": [],
   "source": [
    "df_2023.to_pickle('df_2023.pkl')"
   ]
  }
 ],
 "metadata": {
  "kernelspec": {
   "display_name": "Python 3",
   "language": "python",
   "name": "python3"
  },
  "language_info": {
   "codemirror_mode": {
    "name": "ipython",
    "version": 3
   },
   "file_extension": ".py",
   "mimetype": "text/x-python",
   "name": "python",
   "nbconvert_exporter": "python",
   "pygments_lexer": "ipython3",
   "version": "3.12.4"
  }
 },
 "nbformat": 4,
 "nbformat_minor": 2
}
