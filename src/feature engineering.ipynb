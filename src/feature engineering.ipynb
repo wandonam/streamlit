{
 "cells": [
  {
   "cell_type": "markdown",
   "metadata": {},
   "source": [
    "##### Library"
   ]
  },
  {
   "cell_type": "code",
   "execution_count": 3,
   "metadata": {},
   "outputs": [],
   "source": [
    "import os\n",
    "import numpy as np\n",
    "import pandas as pd"
   ]
  },
  {
   "cell_type": "markdown",
   "metadata": {},
   "source": [
    "##### Load data"
   ]
  },
  {
   "cell_type": "code",
   "execution_count": 18,
   "metadata": {},
   "outputs": [],
   "source": [
    "#current_dir = os.path.dirname(__file__)\n",
    "current_dir = r'C:\\Users\\user\\streamlit\\src'\n",
    "parent_dir = os.path.abspath(os.path.join(current_dir, os.pardir))\n",
    "data_file_path = os.path.join(parent_dir, 'data', 'raw', 'raw_2024.xlsx')\n",
    "df_original = pd.read_excel(data_file_path)"
   ]
  },
  {
   "cell_type": "markdown",
   "metadata": {},
   "source": [
    "##### Feature Engineering"
   ]
  },
  {
   "cell_type": "code",
   "execution_count": null,
   "metadata": {},
   "outputs": [],
   "source": [
    "df_gross = pd.DataFrame()"
   ]
  },
  {
   "cell_type": "code",
   "execution_count": 9,
   "metadata": {},
   "outputs": [],
   "source": [
    "## Datetime\n",
    "df_gross['date'] = df_original['결제일']\n",
    "df_gross['year'] = df_original['결제일'].dt.year\n",
    "df_gross['month'] = df_original['결제일'].dt.month\n",
    "df_gross['day'] = df_original['결제일'].dt.day\n",
    "\n",
    "weekday_map = {0: '월', 1: '화', 2: '수', 3: '목', 4: '금', 5: '토', 6: '일'}\n",
    "df_gross['weekday'] = df_original['결제일'].dt.weekday.map(weekday_map)\n",
    "\n",
    "df_gross['hour'] = df_original['출고일'].dt.hour"
   ]
  },
  {
   "cell_type": "code",
   "execution_count": 11,
   "metadata": {},
   "outputs": [],
   "source": [
    "### Define Time\n",
    "def convert_hour_to_text(hour):\n",
    "    if hour == 0:\n",
    "        return 'Other'\n",
    "    elif 1 <= hour < 6:\n",
    "        return 'Dawn'\n",
    "    elif 6 <= hour < 12:\n",
    "        return 'Morning'\n",
    "    elif 12 <= hour < 18:\n",
    "        return 'Afternoon'\n",
    "    elif 18 <= hour < 24:\n",
    "        return 'Evening'\n",
    "    else:\n",
    "        return 'Other'\n",
    "\n",
    "df_gross['time'] = df_gross['hour'].apply(convert_hour_to_text)"
   ]
  },
  {
   "cell_type": "code",
   "execution_count": 14,
   "metadata": {},
   "outputs": [],
   "source": [
    "## Channel\n",
    "df_gross['channel'] = df_original['매출처']\n",
    "\n",
    "def change_sales_channel(value):\n",
    "    mapping = {\n",
    "        '쿠팡윙': 'wing',\n",
    "        '로켓그로스': 'growth',\n",
    "        '스마트스토어': 'smartstore',\n",
    "        '자사몰': 'cafe24'\n",
    "    }\n",
    "    return mapping.get(value, 'Other')\n",
    "\n",
    "df_gross['channel'] = df_gross['channel'].apply(change_sales_channel)"
   ]
  },
  {
   "cell_type": "code",
   "execution_count": 16,
   "metadata": {},
   "outputs": [],
   "source": [
    "## Product\n",
    "df_gross['product'] = df_original['상품명']\n",
    "df_original['옵션명'] = df_original['옵션명'].replace('기타', '1BOX')\n",
    "df_gross['option'] = df_original['옵션명']"
   ]
  },
  {
   "cell_type": "code",
   "execution_count": 17,
   "metadata": {},
   "outputs": [],
   "source": [
    "## Sales\n",
    "df_gross['quantity'] = df_original['수량'].fillna(0)\n",
    "df_gross['quantity'] = df_gross['quantity'].astype(int)\n",
    "df_gross['sales'] = df_original['총\\n결제가'].astype(int)"
   ]
  },
  {
   "cell_type": "code",
   "execution_count": 20,
   "metadata": {},
   "outputs": [],
   "source": [
    "## Save\n",
    "processed_dir_path = os.path.join(parent_dir, 'data', 'processed')\n",
    "os.makedirs(processed_dir_path, exist_ok=True)\n",
    "processed_file_path = os.path.join(processed_dir_path, 'gross.pkl')\n",
    "df_gross.to_pickle(processed_file_path)"
   ]
  }
 ],
 "metadata": {
  "kernelspec": {
   "display_name": "Python 3",
   "language": "python",
   "name": "python3"
  },
  "language_info": {
   "codemirror_mode": {
    "name": "ipython",
    "version": 3
   },
   "file_extension": ".py",
   "mimetype": "text/x-python",
   "name": "python",
   "nbconvert_exporter": "python",
   "pygments_lexer": "ipython3",
   "version": "3.12.4"
  }
 },
 "nbformat": 4,
 "nbformat_minor": 2
}
