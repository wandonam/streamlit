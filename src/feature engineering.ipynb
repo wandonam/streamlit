{
 "cells": [
  {
   "cell_type": "markdown",
   "metadata": {},
   "source": [
    "##### Library"
   ]
  },
  {
   "cell_type": "code",
   "execution_count": 4,
   "metadata": {},
   "outputs": [],
   "source": [
    "import os\n",
    "import numpy as np\n",
    "import pandas as pd"
   ]
  },
  {
   "cell_type": "markdown",
   "metadata": {},
   "source": [
    "##### Load data"
   ]
  },
  {
   "cell_type": "code",
   "execution_count": 16,
   "metadata": {},
   "outputs": [],
   "source": [
    "df_2023 = pd.read_pickle(rf'..\\data\\raw\\raw_2023.pkl')\n",
    "df_2024 = pd.read_excel(rf'..\\data\\raw\\raw_2024.xlsx')"
   ]
  },
  {
   "cell_type": "markdown",
   "metadata": {},
   "source": [
    "##### Feature Engineering"
   ]
  },
  {
   "cell_type": "code",
   "execution_count": 6,
   "metadata": {},
   "outputs": [],
   "source": [
    "df_gross = pd.DataFrame()"
   ]
  },
  {
   "cell_type": "code",
   "execution_count": 7,
   "metadata": {},
   "outputs": [],
   "source": [
    "## Datetime\n",
    "df_gross['date'] = df_2024['결제일']\n",
    "df_gross['year'] = df_2024['결제일'].dt.year\n",
    "df_gross['month'] = df_2024['결제일'].dt.month\n",
    "df_gross['day'] = df_2024['결제일'].dt.day\n",
    "\n",
    "weekday_map = {0: '월', 1: '화', 2: '수', 3: '목', 4: '금', 5: '토', 6: '일'}\n",
    "df_gross['weekday'] = df_2024['결제일'].dt.weekday.map(weekday_map)\n",
    "\n",
    "df_gross['hour'] = df_2024['출고일'].dt.hour"
   ]
  },
  {
   "cell_type": "code",
   "execution_count": 8,
   "metadata": {},
   "outputs": [],
   "source": [
    "### Define Time\n",
    "def convert_hour_to_text(hour):\n",
    "    if hour == 0:\n",
    "        return 'Other'\n",
    "    elif 1 <= hour < 6:\n",
    "        return 'Dawn'\n",
    "    elif 6 <= hour < 12:\n",
    "        return 'Morning'\n",
    "    elif 12 <= hour < 18:\n",
    "        return 'Afternoon'\n",
    "    elif 18 <= hour < 24:\n",
    "        return 'Evening'\n",
    "    else:\n",
    "        return 'Other'\n",
    "\n",
    "df_gross['time'] = df_gross['hour'].apply(convert_hour_to_text)"
   ]
  },
  {
   "cell_type": "code",
   "execution_count": 9,
   "metadata": {},
   "outputs": [],
   "source": [
    "## Channel\n",
    "df_gross['channel'] = df_2024['매출처']\n",
    "\n",
    "def change_sales_channel(value):\n",
    "    mapping = {\n",
    "        '쿠팡윙': 'wing',\n",
    "        '로켓그로스': 'growth',\n",
    "        '스마트스토어': 'smartstore',\n",
    "        '자사몰': 'cafe24'\n",
    "    }\n",
    "    return mapping.get(value, 'Other')\n",
    "\n",
    "df_gross['channel'] = df_gross['channel'].apply(change_sales_channel)"
   ]
  },
  {
   "cell_type": "code",
   "execution_count": 10,
   "metadata": {},
   "outputs": [],
   "source": [
    "## Product\n",
    "df_gross['product'] = df_2024['상품명']\n",
    "df_2024['옵션명'] = df_2024['옵션명'].replace('기타', '1BOX')\n",
    "df_gross['option'] = df_2024['옵션명']"
   ]
  },
  {
   "cell_type": "code",
   "execution_count": 11,
   "metadata": {},
   "outputs": [],
   "source": [
    "## Sales\n",
    "df_gross['quantity'] = df_2024['수량'].fillna(0)\n",
    "df_gross['quantity'] = df_gross['quantity'].astype(int)\n",
    "df_gross['sales'] = df_2024['총\\n결제가'].astype(int)"
   ]
  },
  {
   "cell_type": "code",
   "execution_count": 17,
   "metadata": {},
   "outputs": [],
   "source": [
    "df_gross['cat'] = df_gross['product'].apply(\n",
    "    lambda x: 'enzyme' if '효소' in x else \n",
    "              'diet' if '브이티' in x else \n",
    "              'meal' if '쉐이크' in x else \n",
    "              'meal' if '곤약밥' in x else \n",
    "              'healthy' if '철분제' in x else \n",
    "              'diet' if '습관' in x else \n",
    "              'diet' if '클렌즈' in x else \n",
    "              'diet' if '유산균' in x else \n",
    "              'healthy' if '알로에겔' in x else \n",
    "              'diet' if '슬림' in x else\n",
    "              'diet' if '아임파인' in x else\n",
    "              'etc'\n",
    ")"
   ]
  },
  {
   "cell_type": "code",
   "execution_count": 20,
   "metadata": {},
   "outputs": [],
   "source": [
    "df_gross = pd.concat([df_gross, df_2023], ignore_index=True)"
   ]
  },
  {
   "cell_type": "code",
   "execution_count": 22,
   "metadata": {},
   "outputs": [
    {
     "data": {
      "text/plain": [
       "cat\n",
       "meal       11596\n",
       "enzyme      6574\n",
       "healthy     6438\n",
       "diet        5775\n",
       "etc         1671\n",
       "Name: count, dtype: int64"
      ]
     },
     "execution_count": 22,
     "metadata": {},
     "output_type": "execute_result"
    }
   ],
   "source": [
    "df_gross['cat'].value_counts()"
   ]
  }
 ],
 "metadata": {
  "kernelspec": {
   "display_name": "Python 3",
   "language": "python",
   "name": "python3"
  },
  "language_info": {
   "codemirror_mode": {
    "name": "ipython",
    "version": 3
   },
   "file_extension": ".py",
   "mimetype": "text/x-python",
   "name": "python",
   "nbconvert_exporter": "python",
   "pygments_lexer": "ipython3",
   "version": "3.12.4"
  }
 },
 "nbformat": 4,
 "nbformat_minor": 2
}
